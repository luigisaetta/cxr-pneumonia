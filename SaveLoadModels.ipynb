{
 "cells": [
  {
   "cell_type": "markdown",
   "metadata": {},
   "source": [
    "### Save models architecture in JSON format\n",
    "\n",
    "could be used to load without models code available directly.\n",
    "\n",
    "models saved in DIR_MODELS_ARCH"
   ]
  },
  {
   "cell_type": "code",
   "execution_count": 1,
   "metadata": {},
   "outputs": [],
   "source": [
    "!pip install efficientnet >> /dev/null"
   ]
  },
  {
   "cell_type": "code",
   "execution_count": 1,
   "metadata": {},
   "outputs": [],
   "source": [
    "import tensorflow as tf\n",
    "import efficientnet.tfkeras as efn\n",
    "import glob"
   ]
  },
  {
   "cell_type": "code",
   "execution_count": 2,
   "metadata": {},
   "outputs": [
    {
     "name": "stdout",
     "output_type": "stream",
     "text": [
      "2.1.0\n"
     ]
    }
   ],
   "source": [
    "print(tf.__version__)"
   ]
  },
  {
   "cell_type": "code",
   "execution_count": 3,
   "metadata": {},
   "outputs": [],
   "source": [
    "DIR_MODELS = './tpu-models'\n",
    "DIR_MODELS_ARCH = './models-arch'\n",
    "\n",
    "IMG_SIZES = 512\n",
    "\n",
    "IMAGE_SIZE = [IMG_SIZES, IMG_SIZES]\n",
    "\n",
    "# tune it, dependes on Image, size, TPU or GPU\n",
    "BATCH_SIZE = 26\n",
    "\n",
    "# for K-fold CV\n",
    "FOLDS = 5\n",
    "\n",
    "# WHICH EFFICIENTNET TO USE (B?, B0 from B7)\n",
    "EFF_NETS = 4"
   ]
  },
  {
   "cell_type": "code",
   "execution_count": 4,
   "metadata": {},
   "outputs": [
    {
     "name": "stdout",
     "output_type": "stream",
     "text": [
      "['./tpu-models/fold-1.h5', './tpu-models/fold-2.h5', './tpu-models/fold-3.h5', './tpu-models/fold-4.h5', './tpu-models/fold-5.h5']\n"
     ]
    }
   ],
   "source": [
    "list_models = sorted(glob.glob(DIR_MODELS + '/*.h5'))\n",
    "\n",
    "print(list_models)"
   ]
  },
  {
   "cell_type": "code",
   "execution_count": 5,
   "metadata": {},
   "outputs": [],
   "source": [
    "EFNS = [efn.EfficientNetB0, efn.EfficientNetB1, efn.EfficientNetB2, efn.EfficientNetB3, \n",
    "        efn.EfficientNetB4, efn.EfficientNetB5, efn.EfficientNetB6, efn.EfficientNetB7]\n",
    "\n",
    "# as default it used B0\n",
    "\n",
    "def build_model(dim = IMG_SIZES, ef = 0):\n",
    "    inp = tf.keras.layers.Input(shape=(*IMAGE_SIZE, 3))\n",
    "    \n",
    "    base = EFNS[ef](input_shape=(*IMAGE_SIZE, 3), weights='imagenet', include_top = False)\n",
    "    \n",
    "    x = base(inp)\n",
    "    x = tf.keras.layers.GlobalAveragePooling2D()(x)\n",
    "    x = tf.keras.layers.Dense(512, activation='relu')(x)\n",
    "    x = tf.keras.layers.Dense(1, activation='sigmoid')(x)\n",
    "    \n",
    "    model = tf.keras.Model(inputs = inp,outputs = x)\n",
    "    \n",
    "    opt = tf.keras.optimizers.Adam(learning_rate = 0.001)\n",
    "    \n",
    "    # removed label smoothing\n",
    "    fn_loss = tf.keras.losses.BinaryCrossentropy() \n",
    "    \n",
    "    # loss = [focal_loss]\n",
    "    model.compile(optimizer = opt, loss = [fn_loss], metrics=['AUC', 'accuracy'])\n",
    "    \n",
    "    return model"
   ]
  },
  {
   "cell_type": "code",
   "execution_count": 6,
   "metadata": {},
   "outputs": [
    {
     "name": "stdout",
     "output_type": "stream",
     "text": [
      "Downloading data from https://github.com/Callidior/keras-applications/releases/download/efficientnet/efficientnet-b4_weights_tf_dim_ordering_tf_kernels_autoaugment_notop.h5\n",
      "71892992/71892840 [==============================] - 1s 0us/step\n",
      "Model: \"model\"\n",
      "_________________________________________________________________\n",
      "Layer (type)                 Output Shape              Param #   \n",
      "=================================================================\n",
      "input_1 (InputLayer)         [(None, 512, 512, 3)]     0         \n",
      "_________________________________________________________________\n",
      "efficientnet-b4 (Model)      (None, 16, 16, 1792)      17673816  \n",
      "_________________________________________________________________\n",
      "global_average_pooling2d (Gl (None, 1792)              0         \n",
      "_________________________________________________________________\n",
      "dense (Dense)                (None, 512)               918016    \n",
      "_________________________________________________________________\n",
      "dense_1 (Dense)              (None, 1)                 513       \n",
      "=================================================================\n",
      "Total params: 18,592,345\n",
      "Trainable params: 18,467,145\n",
      "Non-trainable params: 125,200\n",
      "_________________________________________________________________\n"
     ]
    }
   ],
   "source": [
    "try_model = build_model(dim=IMG_SIZES, ef = EFF_NETS)\n",
    "\n",
    "try_model.summary()"
   ]
  },
  {
   "cell_type": "code",
   "execution_count": 7,
   "metadata": {},
   "outputs": [
    {
     "name": "stdout",
     "output_type": "stream",
     "text": [
      "Loading model from: ./tpu-models/fold-1.h5\n",
      "Saving model arch. for: ./tpu-models/fold-1.h5\n",
      "Loading model from: ./tpu-models/fold-2.h5\n",
      "Saving model arch. for: ./tpu-models/fold-2.h5\n",
      "Loading model from: ./tpu-models/fold-3.h5\n",
      "Saving model arch. for: ./tpu-models/fold-3.h5\n",
      "Loading model from: ./tpu-models/fold-4.h5\n",
      "Saving model arch. for: ./tpu-models/fold-4.h5\n",
      "Loading model from: ./tpu-models/fold-5.h5\n",
      "Saving model arch. for: ./tpu-models/fold-5.h5\n"
     ]
    }
   ],
   "source": [
    "for i, f_name in enumerate(list_models):\n",
    "    print('Loading model from:', f_name)\n",
    "    \n",
    "    model = build_model(dim=IMG_SIZES, ef=EFF_NETS)\n",
    "    \n",
    "    model.load_weights(f_name)\n",
    "    \n",
    "    # saving model architecture\n",
    "    print('Saving model arch. for:', f_name)\n",
    "    \n",
    "    model_json = model.to_json()\n",
    "    arch_name = DIR_MODELS_ARCH + \"/fold-\" + str(i+1) + \".json\"\n",
    "    \n",
    "    with open(arch_name, \"w\") as json_file:\n",
    "        json_file.write(model_json)"
   ]
  },
  {
   "cell_type": "code",
   "execution_count": 8,
   "metadata": {},
   "outputs": [
    {
     "name": "stdout",
     "output_type": "stream",
     "text": [
      "total 1140\r\n",
      "-rw-r--r-- 1 root root 225295 Jan  6 22:55 fold-1.json\r\n",
      "-rw-r--r-- 1 root root 225295 Jan  6 22:56 fold-2.json\r\n",
      "-rw-r--r-- 1 root root 225295 Jan  6 22:56 fold-3.json\r\n",
      "-rw-r--r-- 1 root root 225299 Jan  6 22:56 fold-4.json\r\n",
      "-rw-r--r-- 1 root root 225309 Jan  6 22:56 fold-5.json\r\n"
     ]
    }
   ],
   "source": [
    "!ls -l $DIR_MODELS_ARCH"
   ]
  },
  {
   "cell_type": "code",
   "execution_count": null,
   "metadata": {},
   "outputs": [],
   "source": []
  }
 ],
 "metadata": {
  "kernelspec": {
   "display_name": "Python 3",
   "language": "python",
   "name": "python3"
  },
  "language_info": {
   "codemirror_mode": {
    "name": "ipython",
    "version": 3
   },
   "file_extension": ".py",
   "mimetype": "text/x-python",
   "name": "python",
   "nbconvert_exporter": "python",
   "pygments_lexer": "ipython3",
   "version": "3.7.6"
  }
 },
 "nbformat": 4,
 "nbformat_minor": 4
}
