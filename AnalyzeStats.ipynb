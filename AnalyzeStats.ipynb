{
 "cells": [
  {
   "cell_type": "markdown",
   "metadata": {},
   "source": [
    "## In this Notebook we abalyze tye Precision, Recall and F1-score as functions of the threshold\n",
    "### we derive the plot reported in FDA Submission document"
   ]
  },
  {
   "cell_type": "code",
   "execution_count": 1,
   "metadata": {},
   "outputs": [],
   "source": [
    "import pandas as pd\n",
    "import numpy as np\n",
    "\n",
    "import matplotlib.pyplot as plt"
   ]
  },
  {
   "cell_type": "code",
   "execution_count": 2,
   "metadata": {},
   "outputs": [],
   "source": [
    "stats = pd.read_csv('stat_df.csv')"
   ]
  },
  {
   "cell_type": "code",
   "execution_count": 3,
   "metadata": {},
   "outputs": [
    {
     "data": {
      "text/html": [
       "<div>\n",
       "<style scoped>\n",
       "    .dataframe tbody tr th:only-of-type {\n",
       "        vertical-align: middle;\n",
       "    }\n",
       "\n",
       "    .dataframe tbody tr th {\n",
       "        vertical-align: top;\n",
       "    }\n",
       "\n",
       "    .dataframe thead th {\n",
       "        text-align: right;\n",
       "    }\n",
       "</style>\n",
       "<table border=\"1\" class=\"dataframe\">\n",
       "  <thead>\n",
       "    <tr style=\"text-align: right;\">\n",
       "      <th></th>\n",
       "      <th>thr</th>\n",
       "      <th>tp</th>\n",
       "      <th>tn</th>\n",
       "      <th>fp</th>\n",
       "      <th>fn</th>\n",
       "      <th>Sens</th>\n",
       "      <th>Spec</th>\n",
       "      <th>Prec</th>\n",
       "      <th>F1-score</th>\n",
       "    </tr>\n",
       "  </thead>\n",
       "  <tbody>\n",
       "    <tr>\n",
       "      <th>0</th>\n",
       "      <td>0.40</td>\n",
       "      <td>120</td>\n",
       "      <td>294</td>\n",
       "      <td>183</td>\n",
       "      <td>39</td>\n",
       "      <td>0.755</td>\n",
       "      <td>0.616</td>\n",
       "      <td>0.396</td>\n",
       "      <td>0.519</td>\n",
       "    </tr>\n",
       "    <tr>\n",
       "      <th>1</th>\n",
       "      <td>0.41</td>\n",
       "      <td>117</td>\n",
       "      <td>305</td>\n",
       "      <td>172</td>\n",
       "      <td>42</td>\n",
       "      <td>0.736</td>\n",
       "      <td>0.639</td>\n",
       "      <td>0.405</td>\n",
       "      <td>0.522</td>\n",
       "    </tr>\n",
       "    <tr>\n",
       "      <th>2</th>\n",
       "      <td>0.42</td>\n",
       "      <td>113</td>\n",
       "      <td>309</td>\n",
       "      <td>168</td>\n",
       "      <td>46</td>\n",
       "      <td>0.711</td>\n",
       "      <td>0.648</td>\n",
       "      <td>0.402</td>\n",
       "      <td>0.514</td>\n",
       "    </tr>\n",
       "  </tbody>\n",
       "</table>\n",
       "</div>"
      ],
      "text/plain": [
       "    thr   tp   tn   fp  fn   Sens   Spec   Prec  F1-score\n",
       "0  0.40  120  294  183  39  0.755  0.616  0.396     0.519\n",
       "1  0.41  117  305  172  42  0.736  0.639  0.405     0.522\n",
       "2  0.42  113  309  168  46  0.711  0.648  0.402     0.514"
      ]
     },
     "execution_count": 3,
     "metadata": {},
     "output_type": "execute_result"
    }
   ],
   "source": [
    "stats.head(3)"
   ]
  },
  {
   "cell_type": "code",
   "execution_count": 4,
   "metadata": {},
   "outputs": [],
   "source": [
    "stats['acc'] = (stats['tp'] + stats['tn'])/636."
   ]
  },
  {
   "cell_type": "code",
   "execution_count": 5,
   "metadata": {},
   "outputs": [
    {
     "data": {
      "text/html": [
       "<div>\n",
       "<style scoped>\n",
       "    .dataframe tbody tr th:only-of-type {\n",
       "        vertical-align: middle;\n",
       "    }\n",
       "\n",
       "    .dataframe tbody tr th {\n",
       "        vertical-align: top;\n",
       "    }\n",
       "\n",
       "    .dataframe thead th {\n",
       "        text-align: right;\n",
       "    }\n",
       "</style>\n",
       "<table border=\"1\" class=\"dataframe\">\n",
       "  <thead>\n",
       "    <tr style=\"text-align: right;\">\n",
       "      <th></th>\n",
       "      <th>thr</th>\n",
       "      <th>tp</th>\n",
       "      <th>tn</th>\n",
       "      <th>fp</th>\n",
       "      <th>fn</th>\n",
       "      <th>Sens</th>\n",
       "      <th>Spec</th>\n",
       "      <th>Prec</th>\n",
       "      <th>F1-score</th>\n",
       "      <th>acc</th>\n",
       "    </tr>\n",
       "  </thead>\n",
       "  <tbody>\n",
       "    <tr>\n",
       "      <th>0</th>\n",
       "      <td>0.40</td>\n",
       "      <td>120</td>\n",
       "      <td>294</td>\n",
       "      <td>183</td>\n",
       "      <td>39</td>\n",
       "      <td>0.755</td>\n",
       "      <td>0.616</td>\n",
       "      <td>0.396</td>\n",
       "      <td>0.519</td>\n",
       "      <td>0.650943</td>\n",
       "    </tr>\n",
       "    <tr>\n",
       "      <th>1</th>\n",
       "      <td>0.41</td>\n",
       "      <td>117</td>\n",
       "      <td>305</td>\n",
       "      <td>172</td>\n",
       "      <td>42</td>\n",
       "      <td>0.736</td>\n",
       "      <td>0.639</td>\n",
       "      <td>0.405</td>\n",
       "      <td>0.522</td>\n",
       "      <td>0.663522</td>\n",
       "    </tr>\n",
       "    <tr>\n",
       "      <th>2</th>\n",
       "      <td>0.42</td>\n",
       "      <td>113</td>\n",
       "      <td>309</td>\n",
       "      <td>168</td>\n",
       "      <td>46</td>\n",
       "      <td>0.711</td>\n",
       "      <td>0.648</td>\n",
       "      <td>0.402</td>\n",
       "      <td>0.514</td>\n",
       "      <td>0.663522</td>\n",
       "    </tr>\n",
       "    <tr>\n",
       "      <th>3</th>\n",
       "      <td>0.43</td>\n",
       "      <td>112</td>\n",
       "      <td>317</td>\n",
       "      <td>160</td>\n",
       "      <td>47</td>\n",
       "      <td>0.704</td>\n",
       "      <td>0.665</td>\n",
       "      <td>0.412</td>\n",
       "      <td>0.520</td>\n",
       "      <td>0.674528</td>\n",
       "    </tr>\n",
       "    <tr>\n",
       "      <th>4</th>\n",
       "      <td>0.44</td>\n",
       "      <td>109</td>\n",
       "      <td>329</td>\n",
       "      <td>148</td>\n",
       "      <td>50</td>\n",
       "      <td>0.686</td>\n",
       "      <td>0.690</td>\n",
       "      <td>0.424</td>\n",
       "      <td>0.524</td>\n",
       "      <td>0.688679</td>\n",
       "    </tr>\n",
       "  </tbody>\n",
       "</table>\n",
       "</div>"
      ],
      "text/plain": [
       "    thr   tp   tn   fp  fn   Sens   Spec   Prec  F1-score       acc\n",
       "0  0.40  120  294  183  39  0.755  0.616  0.396     0.519  0.650943\n",
       "1  0.41  117  305  172  42  0.736  0.639  0.405     0.522  0.663522\n",
       "2  0.42  113  309  168  46  0.711  0.648  0.402     0.514  0.663522\n",
       "3  0.43  112  317  160  47  0.704  0.665  0.412     0.520  0.674528\n",
       "4  0.44  109  329  148  50  0.686  0.690  0.424     0.524  0.688679"
      ]
     },
     "execution_count": 5,
     "metadata": {},
     "output_type": "execute_result"
    }
   ],
   "source": [
    "stats.head()"
   ]
  },
  {
   "cell_type": "code",
   "execution_count": 6,
   "metadata": {},
   "outputs": [],
   "source": [
    "tn = stats['tn'].values\n",
    "fn = stats['fn'].values\n",
    "tp = stats['tp'].values\n",
    "fp = stats['fp'].values\n",
    "thr = stats['thr'].values"
   ]
  },
  {
   "cell_type": "code",
   "execution_count": 7,
   "metadata": {},
   "outputs": [],
   "source": [
    "# define vectorized function for Precision, Recall, F1-score\n",
    "def compute_prec(tp, fp):\n",
    "    return np.divide(tp, (tp + fp).astype(float))\n",
    "\n",
    "def compute_rec(tp, fn):\n",
    "    return np.divide(tp, (tp + fn).astype(float))\n",
    "\n",
    "def compute_f1(tp, fn, fp):\n",
    "    prec = np.divide(tp, (tp + fp).astype(float))\n",
    "    rec = np.divide(tp, (tp + fn).astype(float))\n",
    "    f1_score = np.divide(2*prec*rec, (prec + rec).astype(float))\n",
    "    \n",
    "    f1_score = np.round(f1_score, 3)\n",
    "    return f1_score"
   ]
  },
  {
   "cell_type": "code",
   "execution_count": 8,
   "metadata": {},
   "outputs": [],
   "source": [
    "# compute\n",
    "rec = compute_rec(tp, fn)\n",
    "prec = compute_prec(tp, fp)\n",
    "f1_score = compute_f1(tp, fn, fp)"
   ]
  },
  {
   "cell_type": "code",
   "execution_count": 9,
   "metadata": {},
   "outputs": [
    {
     "data": {
      "image/png": "[encoded data removed]",
      "text/plain": [
       "<Figure size 576x576 with 1 Axes>"
      ]
     },
     "metadata": {
      "needs_background": "light"
     },
     "output_type": "display_data"
    }
   ],
   "source": [
    "plt.figure(figsize=(8,8))\n",
    "plt.plot(thr, prec, label='Precision')\n",
    "plt.plot(thr, rec, label='Recall')\n",
    "plt.plot(thr, f1_score, label='F1-score')\n",
    "plt.xlabel('threshold')\n",
    "plt.legend()\n",
    "plt.grid()"
   ]
  },
  {
   "cell_type": "code",
   "execution_count": null,
   "metadata": {},
   "outputs": [],
   "source": []
  }
 ],
 "metadata": {
  "kernelspec": {
   "display_name": "Python 3",
   "language": "python",
   "name": "python3"
  },
  "language_info": {
   "codemirror_mode": {
    "name": "ipython",
    "version": 3
   },
   "file_extension": ".py",
   "mimetype": "text/x-python",
   "name": "python",
   "nbconvert_exporter": "python",
   "pygments_lexer": "ipython3",
   "version": "3.7.9"
  }
 },
 "nbformat": 4,
 "nbformat_minor": 4
}
